{
  "nbformat": 4,
  "nbformat_minor": 0,
  "metadata": {
    "colab": {
      "name": "assignment.ipynb",
      "provenance": [],
      "collapsed_sections": [],
      "authorship_tag": "ABX9TyMNTSkRuzwB0ZtSZpcSiO6B",
      "include_colab_link": true
    },
    "kernelspec": {
      "name": "python3",
      "display_name": "Python 3"
    },
    "language_info": {
      "name": "python"
    }
  },
  "cells": [
    {
      "cell_type": "markdown",
      "metadata": {
        "id": "view-in-github",
        "colab_type": "text"
      },
      "source": [
        "<a href=\"https://colab.research.google.com/github/dohkim/tourMega_assignment/blob/main/assignment.ipynb\" target=\"_parent\"><img src=\"https://colab.research.google.com/assets/colab-badge.svg\" alt=\"Open In Colab\"/></a>"
      ]
    },
    {
      "cell_type": "code",
      "metadata": {
        "id": "LTMWcK2orQJg"
      },
      "source": [
        "from bs4 import BeautifulSoup\n",
        "import numpy as np\n",
        "import pandas as pd\n",
        "import re\n",
        "\n",
        "from IPython.core.display import clear_output\n",
        "from random import randint\n",
        "from requests import get\n",
        "from time import sleep\n",
        "from time import time\n",
        "start_time = time()\n",
        "\n",
        "from warnings import warn"
      ],
      "execution_count": 119,
      "outputs": []
    },
    {
      "cell_type": "markdown",
      "metadata": {
        "id": "SQmENXbHDecL"
      },
      "source": [
        "# **Scrape Information**"
      ]
    },
    {
      "cell_type": "code",
      "metadata": {
        "colab": {
          "base_uri": "https://localhost:8080/"
        },
        "id": "iS4bHQU0rXNg",
        "outputId": "8ebca885-a287-4e3a-b841-1bd741835761"
      },
      "source": [
        "requests = 0\n",
        "max_page = 70\n",
        "target = \"https://www.yelp.com/search?find_desc=Landmarks%20%26%20Historical%20Buildings&find_loc=San%20Jose%2C%20CA&start=\"\n",
        "\n",
        "names = []\n",
        "details = []\n",
        "ratings = []\n",
        "reviews = []\n",
        "address = []\n",
        "phones = []\n",
        "\n",
        "for page in range(0,max_page,10):\n",
        "  url = target+str(page)\n",
        "  response = get(url)    \n",
        "  sleep(randint(8,15))\n",
        "\n",
        "  #to get the progress status\n",
        "  requests += 1\n",
        "  elapsed_time = time() - start_time\n",
        "  print('Request:{}; Frequency: {} requests/s'.format(requests, requests/elapsed_time))\n",
        "  clear_output(wait = True)\n",
        "  if response.status_code != 200:\n",
        "    warn('Request: {}; Status code: {}'.format(requests, response.status_code))\n",
        "    \n",
        "  html_soup = BeautifulSoup(response.text, 'html.parser')\n",
        "\n",
        "  containers = html_soup.find_all('div',{'class': 'container__09f24__21w3G'})\n",
        "  for container in containers:  \n",
        "    \n",
        "    pName = container.h4.get_text(strip=True)\n",
        "    pName = re.sub(r'^[\\d.\\s]+', '', pName)\n",
        "    names.append(pName)\n",
        "    \n",
        "    try:\n",
        "      info = container.select_one('[class*=\"secondaryAttributes\"]').get_text(separator=',').split(',')\n",
        "    except:\n",
        "      # in case of None\n",
        "      info=\"\"\n",
        "    \n",
        "    if re.match(r\"^(\\([0-9]{3}\\) ?|[0-9]{3}-)[0-9]{3}-[0-9]{4}$\", info[0]):\n",
        "      pNumber=info[0]\n",
        "      pAddress=\", \".join(info[1:])\n",
        "    else:\n",
        "      pNumber=\"\"\n",
        "      pAddress=\", \".join(info)\n",
        "    \n",
        "    phones.append(pNumber)\n",
        "    address.append(pAddress)\n",
        "    \n",
        "    try:\n",
        "      starCount = container.select_one('[class*=\"i-stars\"]')['aria-label']\n",
        "    except:\n",
        "      # in case of None\n",
        "      starCount = \"\" \n",
        "    starCount=re.sub(r'[^\\d.]', '',starCount)\n",
        "    ratings.append(starCount)\n",
        "\n",
        "    try:\n",
        "      numReview =  container.select_one('[class*=\"reviewCount\"]').get_text()\n",
        "    except:\n",
        "      # in case of None\n",
        "      numReview = \"\"\n",
        "    reviews.append(numReview)\n",
        "    \n",
        "    category = container.select_one('[class*=\"priceCategory\"]').get_text(separator=',')\n",
        "    re.sub(r' ',\"\",category)    \n",
        "    details.append(category)  "
      ],
      "execution_count": 102,
      "outputs": [
        {
          "output_type": "stream",
          "text": [
            "Request:7; Frequency: 0.08171559177598832 requests/s\n"
          ],
          "name": "stdout"
        }
      ]
    },
    {
      "cell_type": "markdown",
      "metadata": {
        "id": "RkY3JVkzDpWU"
      },
      "source": [
        "# **Format the data into a data frame**"
      ]
    },
    {
      "cell_type": "code",
      "metadata": {
        "id": "8hoeccGLrXrF"
      },
      "source": [
        "df = pd.DataFrame({\n",
        "    'Name of Place' : names,\n",
        "    'Details' : details,\n",
        "    'Rating' : ratings,\n",
        "    'Number of Reviews' : reviews,\n",
        "    'Address' : address,\n",
        "    'Phone Number' : phones    \n",
        "\n",
        "})\n",
        "df['Number of Reviews'] = df['Number of Reviews'].replace('', 0 ,regex=True)\n",
        "df['Number of Reviews'] = df['Number of Reviews'].astype(int)"
      ],
      "execution_count": 214,
      "outputs": []
    },
    {
      "cell_type": "code",
      "metadata": {
        "colab": {
          "base_uri": "https://localhost:8080/",
          "height": 355
        },
        "id": "l0uglaGkNxbQ",
        "outputId": "418ba82e-7b49-4214-90b0-ed9014557c0b"
      },
      "source": [
        "df.head(10)"
      ],
      "execution_count": 211,
      "outputs": [
        {
          "output_type": "execute_result",
          "data": {
            "text/html": [
              "<div>\n",
              "<style scoped>\n",
              "    .dataframe tbody tr th:only-of-type {\n",
              "        vertical-align: middle;\n",
              "    }\n",
              "\n",
              "    .dataframe tbody tr th {\n",
              "        vertical-align: top;\n",
              "    }\n",
              "\n",
              "    .dataframe thead th {\n",
              "        text-align: right;\n",
              "    }\n",
              "</style>\n",
              "<table border=\"1\" class=\"dataframe\">\n",
              "  <thead>\n",
              "    <tr style=\"text-align: right;\">\n",
              "      <th></th>\n",
              "      <th>Name of Place</th>\n",
              "      <th>Details</th>\n",
              "      <th>Rating</th>\n",
              "      <th>Number of Reviews</th>\n",
              "      <th>Address</th>\n",
              "      <th>Phone Number</th>\n",
              "    </tr>\n",
              "  </thead>\n",
              "  <tbody>\n",
              "    <tr>\n",
              "      <th>0</th>\n",
              "      <td>History Park</td>\n",
              "      <td>Landmarks &amp; Historical Buildings,, ,Venues &amp; E...</td>\n",
              "      <td>4</td>\n",
              "      <td>97</td>\n",
              "      <td>635 Phelan Ave, East San Jose</td>\n",
              "      <td>(408) 287-2290</td>\n",
              "    </tr>\n",
              "    <tr>\n",
              "      <th>1</th>\n",
              "      <td>Ainsley House</td>\n",
              "      <td>Landmarks &amp; Historical Buildings,, ,Museums,, ...</td>\n",
              "      <td>5</td>\n",
              "      <td>6</td>\n",
              "      <td>300 Grant St</td>\n",
              "      <td>(408) 866-2119</td>\n",
              "    </tr>\n",
              "    <tr>\n",
              "      <th>2</th>\n",
              "      <td>Circle of Palms</td>\n",
              "      <td>Landmarks &amp; Historical Buildings</td>\n",
              "      <td>4.5</td>\n",
              "      <td>3</td>\n",
              "      <td>179 S Market St, Downtown</td>\n",
              "      <td></td>\n",
              "    </tr>\n",
              "    <tr>\n",
              "      <th>3</th>\n",
              "      <td>Communications Hill Grand Staircase</td>\n",
              "      <td>Landmarks &amp; Historical Buildings</td>\n",
              "      <td>5</td>\n",
              "      <td>8</td>\n",
              "      <td>399 Mullinix Way, Fairgrounds</td>\n",
              "      <td></td>\n",
              "    </tr>\n",
              "    <tr>\n",
              "      <th>4</th>\n",
              "      <td>Peralta Adobe And Fallon House</td>\n",
              "      <td>Landmarks &amp; Historical Buildings</td>\n",
              "      <td>3.5</td>\n",
              "      <td>6</td>\n",
              "      <td>175 W Saint John St, Downtown</td>\n",
              "      <td>(408) 287-2290</td>\n",
              "    </tr>\n",
              "    <tr>\n",
              "      <th>5</th>\n",
              "      <td>James Lick Mansion</td>\n",
              "      <td>Landmarks &amp; Historical Buildings</td>\n",
              "      <td>5</td>\n",
              "      <td>1</td>\n",
              "      <td>550 Mansion Park Dr, North San Jose</td>\n",
              "      <td></td>\n",
              "    </tr>\n",
              "    <tr>\n",
              "      <th>6</th>\n",
              "      <td>Agnews Historic Park</td>\n",
              "      <td>Landmarks &amp; Historical Buildings,, ,Parks</td>\n",
              "      <td>5</td>\n",
              "      <td>3</td>\n",
              "      <td>4030 Lafayette St, North San Jose</td>\n",
              "      <td>(408) 615-2200</td>\n",
              "    </tr>\n",
              "    <tr>\n",
              "      <th>7</th>\n",
              "      <td>Mission Santa Clara de Asis</td>\n",
              "      <td>Churches,, ,Landmarks &amp; Historical Buildings</td>\n",
              "      <td>4.5</td>\n",
              "      <td>54</td>\n",
              "      <td>500 El Camino Real</td>\n",
              "      <td>(408) 554-4023</td>\n",
              "    </tr>\n",
              "    <tr>\n",
              "      <th>8</th>\n",
              "      <td>San Jose Armory</td>\n",
              "      <td>Landmarks &amp; Historical Buildings</td>\n",
              "      <td>4</td>\n",
              "      <td>1</td>\n",
              "      <td>240 N 2nd St, Downtown</td>\n",
              "      <td>(415) 255-5555</td>\n",
              "    </tr>\n",
              "    <tr>\n",
              "      <th>9</th>\n",
              "      <td>César Chávez Family Home</td>\n",
              "      <td>Landmarks &amp; Historical Buildings</td>\n",
              "      <td>3</td>\n",
              "      <td>2</td>\n",
              "      <td>53 Scharff Ave, North Valley</td>\n",
              "      <td></td>\n",
              "    </tr>\n",
              "  </tbody>\n",
              "</table>\n",
              "</div>"
            ],
            "text/plain": [
              "                         Name of Place  ...    Phone Number\n",
              "0                         History Park  ...  (408) 287-2290\n",
              "1                        Ainsley House  ...  (408) 866-2119\n",
              "2                      Circle of Palms  ...                \n",
              "3  Communications Hill Grand Staircase  ...                \n",
              "4       Peralta Adobe And Fallon House  ...  (408) 287-2290\n",
              "5                   James Lick Mansion  ...                \n",
              "6                 Agnews Historic Park  ...  (408) 615-2200\n",
              "7          Mission Santa Clara de Asis  ...  (408) 554-4023\n",
              "8                      San Jose Armory  ...  (415) 255-5555\n",
              "9             César Chávez Family Home  ...                \n",
              "\n",
              "[10 rows x 6 columns]"
            ]
          },
          "metadata": {
            "tags": []
          },
          "execution_count": 211
        }
      ]
    },
    {
      "cell_type": "markdown",
      "metadata": {
        "id": "IsthuRf7DMKf"
      },
      "source": [
        "## **new data frame for each rating range (0-1, 1-2, 2-3, 3-4, 4-5). Then sort the data in each frame by descending number of reviews.**"
      ]
    },
    {
      "cell_type": "code",
      "metadata": {
        "id": "ILrj8rCWCpND"
      },
      "source": [
        "df['Rating'] = pd.to_numeric(df['Rating'], errors='coerce')\n",
        "rating_column = df['Rating']\n",
        "for i in range(0,5):\n",
        "  globals()[f\"df{i+1}\"] = df.loc[(rating_column>=i) & (rating_column <i+1)].sort_values('Rating',ascending=False)"
      ],
      "execution_count": 217,
      "outputs": []
    },
    {
      "cell_type": "code",
      "metadata": {
        "colab": {
          "base_uri": "https://localhost:8080/",
          "height": 417
        },
        "id": "KVuMu7WMCt5C",
        "outputId": "7bb182ed-a0df-4840-b6a7-835cbd0cf2f3"
      },
      "source": [
        "df4"
      ],
      "execution_count": 218,
      "outputs": [
        {
          "output_type": "execute_result",
          "data": {
            "text/html": [
              "<div>\n",
              "<style scoped>\n",
              "    .dataframe tbody tr th:only-of-type {\n",
              "        vertical-align: middle;\n",
              "    }\n",
              "\n",
              "    .dataframe tbody tr th {\n",
              "        vertical-align: top;\n",
              "    }\n",
              "\n",
              "    .dataframe thead th {\n",
              "        text-align: right;\n",
              "    }\n",
              "</style>\n",
              "<table border=\"1\" class=\"dataframe\">\n",
              "  <thead>\n",
              "    <tr style=\"text-align: right;\">\n",
              "      <th></th>\n",
              "      <th>Name of Place</th>\n",
              "      <th>Details</th>\n",
              "      <th>Rating</th>\n",
              "      <th>Number of Reviews</th>\n",
              "      <th>Address</th>\n",
              "      <th>Phone Number</th>\n",
              "    </tr>\n",
              "  </thead>\n",
              "  <tbody>\n",
              "    <tr>\n",
              "      <th>4</th>\n",
              "      <td>Peralta Adobe And Fallon House</td>\n",
              "      <td>Landmarks &amp; Historical Buildings</td>\n",
              "      <td>3.5</td>\n",
              "      <td>6</td>\n",
              "      <td>175 W Saint John St, Downtown</td>\n",
              "      <td>(408) 287-2290</td>\n",
              "    </tr>\n",
              "    <tr>\n",
              "      <th>12</th>\n",
              "      <td>Winchester Mystery House</td>\n",
              "      <td>Landmarks &amp; Historical Buildings,, ,Museums,, ...</td>\n",
              "      <td>3.5</td>\n",
              "      <td>1940</td>\n",
              "      <td>525 S Winchester Blvd, West San Jose</td>\n",
              "      <td>(408) 247-2000</td>\n",
              "    </tr>\n",
              "    <tr>\n",
              "      <th>24</th>\n",
              "      <td>Gilroy Hot Springs</td>\n",
              "      <td>Hiking,, ,Landmarks &amp; Historical Buildings</td>\n",
              "      <td>3.5</td>\n",
              "      <td>3</td>\n",
              "      <td>9824 Gilroy Hot Springs Rd</td>\n",
              "      <td></td>\n",
              "    </tr>\n",
              "    <tr>\n",
              "      <th>30</th>\n",
              "      <td>Old Mission San Jose &amp; Museum</td>\n",
              "      <td>Museums,, ,Landmarks &amp; Historical Buildings</td>\n",
              "      <td>3.5</td>\n",
              "      <td>48</td>\n",
              "      <td>43300 Mission Blvd</td>\n",
              "      <td>(510) 657-1797</td>\n",
              "    </tr>\n",
              "    <tr>\n",
              "      <th>52</th>\n",
              "      <td>HP Garage</td>\n",
              "      <td>Landmarks &amp; Historical Buildings</td>\n",
              "      <td>3.5</td>\n",
              "      <td>12</td>\n",
              "      <td>367 Addison Ave</td>\n",
              "      <td></td>\n",
              "    </tr>\n",
              "    <tr>\n",
              "      <th>9</th>\n",
              "      <td>César Chávez Family Home</td>\n",
              "      <td>Landmarks &amp; Historical Buildings</td>\n",
              "      <td>3.0</td>\n",
              "      <td>2</td>\n",
              "      <td>53 Scharff Ave, North Valley</td>\n",
              "      <td></td>\n",
              "    </tr>\n",
              "    <tr>\n",
              "      <th>10</th>\n",
              "      <td>W.W. Cozzens House - San Jose Historical Landm...</td>\n",
              "      <td>Landmarks &amp; Historical Buildings</td>\n",
              "      <td>3.0</td>\n",
              "      <td>1</td>\n",
              "      <td>1195 Minnesota Ave, Willow Glen</td>\n",
              "      <td></td>\n",
              "    </tr>\n",
              "    <tr>\n",
              "      <th>15</th>\n",
              "      <td>Agnew Depot</td>\n",
              "      <td>Landmarks &amp; Historical Buildings</td>\n",
              "      <td>3.0</td>\n",
              "      <td>1</td>\n",
              "      <td>4185 Bassett St</td>\n",
              "      <td></td>\n",
              "    </tr>\n",
              "    <tr>\n",
              "      <th>17</th>\n",
              "      <td>Paul and May Clark Home - San Jose Historical ...</td>\n",
              "      <td>Landmarks &amp; Historical Buildings</td>\n",
              "      <td>3.0</td>\n",
              "      <td>1</td>\n",
              "      <td>1147 Minnesota Ave, Willow Glen</td>\n",
              "      <td></td>\n",
              "    </tr>\n",
              "    <tr>\n",
              "      <th>22</th>\n",
              "      <td>First Honeybees in California</td>\n",
              "      <td>Landmarks &amp; Historical Buildings</td>\n",
              "      <td>3.0</td>\n",
              "      <td>1</td>\n",
              "      <td>1701 Airport Blvd, North San Jose</td>\n",
              "      <td></td>\n",
              "    </tr>\n",
              "    <tr>\n",
              "      <th>23</th>\n",
              "      <td>Mechanical Engineering Landmark: IBM 350 RAMAC...</td>\n",
              "      <td>Landmarks &amp; Historical Buildings</td>\n",
              "      <td>3.0</td>\n",
              "      <td>1</td>\n",
              "      <td>99 Notre Dame Ave, Downtown</td>\n",
              "      <td></td>\n",
              "    </tr>\n",
              "    <tr>\n",
              "      <th>26</th>\n",
              "      <td>The Bernal Adobe Site and Bear Tree</td>\n",
              "      <td>Landmarks &amp; Historical Buildings</td>\n",
              "      <td>3.0</td>\n",
              "      <td>1</td>\n",
              "      <td>278 Curie Dr, Santa Teresa</td>\n",
              "      <td></td>\n",
              "    </tr>\n",
              "  </tbody>\n",
              "</table>\n",
              "</div>"
            ],
            "text/plain": [
              "                                        Name of Place  ...    Phone Number\n",
              "4                      Peralta Adobe And Fallon House  ...  (408) 287-2290\n",
              "12                           Winchester Mystery House  ...  (408) 247-2000\n",
              "24                                 Gilroy Hot Springs  ...                \n",
              "30                      Old Mission San Jose & Museum  ...  (510) 657-1797\n",
              "52                                          HP Garage  ...                \n",
              "9                            César Chávez Family Home  ...                \n",
              "10  W.W. Cozzens House - San Jose Historical Landm...  ...                \n",
              "15                                        Agnew Depot  ...                \n",
              "17  Paul and May Clark Home - San Jose Historical ...  ...                \n",
              "22                      First Honeybees in California  ...                \n",
              "23  Mechanical Engineering Landmark: IBM 350 RAMAC...  ...                \n",
              "26                The Bernal Adobe Site and Bear Tree  ...                \n",
              "\n",
              "[12 rows x 6 columns]"
            ]
          },
          "metadata": {
            "tags": []
          },
          "execution_count": 218
        }
      ]
    },
    {
      "cell_type": "markdown",
      "metadata": {
        "id": "hmFvJfmH47ko"
      },
      "source": [
        "# **Word Cloud**\n"
      ]
    },
    {
      "cell_type": "code",
      "metadata": {
        "id": "6uk9ecLz4_Lz"
      },
      "source": [
        "from wordcloud import WordCloud, STOPWORDS\n",
        "import matplotlib.pyplot as plt"
      ],
      "execution_count": 196,
      "outputs": []
    },
    {
      "cell_type": "code",
      "metadata": {
        "id": "lWNDEy3L5BB7"
      },
      "source": [
        "def show_word(content):\n",
        "\n",
        "  comment_words = ''\n",
        "  stopwords = set(STOPWORDS)\n",
        "  for val in content.Details:\n",
        "    val = str(val)\n",
        "    tokens = val.split()\n",
        "    for i in range(len(tokens)):\n",
        "          tokens[i] = tokens[i].lower()\n",
        "          \n",
        "    comment_words += \" \".join(tokens)+\" \"\n",
        "\n",
        "  wordcloud = WordCloud(width = 800, height = 800,\n",
        "                  background_color ='white',\n",
        "                  stopwords = stopwords,\n",
        "                  min_font_size = 10).generate(comment_words)\n",
        "    \n",
        "  # plot the WordCloud image                       \n",
        "  plt.figure(figsize = (8, 8), facecolor = None)\n",
        "  plt.imshow(wordcloud)\n",
        "  plt.axis(\"off\")\n",
        "  plt.tight_layout(pad = 0)\n",
        "    \n",
        "  plt.show()"
      ],
      "execution_count": 209,
      "outputs": []
    },
    {
      "cell_type": "code",
      "metadata": {
        "colab": {
          "base_uri": "https://localhost:8080/",
          "height": 607
        },
        "id": "hvSAVIE85OGk",
        "outputId": "4661a7f2-5a66-4ffc-a900-666cdc1859a2"
      },
      "source": [
        "show_word(df.iloc[[3]])"
      ],
      "execution_count": 210,
      "outputs": [
        {
          "output_type": "display_data",
          "data": {
            "image/png": "[encoded data removed]",
            "text/plain": [
              "<Figure size 576x576 with 1 Axes>"
            ]
          },
          "metadata": {
            "tags": [],
            "needs_background": "light"
          }
        }
      ]
    }
  ]
}